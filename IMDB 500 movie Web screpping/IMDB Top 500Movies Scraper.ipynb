{
 "cells": [
  {
   "cell_type": "markdown",
   "id": "133b62b0",
   "metadata": {},
   "source": [
    "# IMDB Top 500Movies Scraper"
   ]
  },
  {
   "cell_type": "code",
   "execution_count": 84,
   "id": "84504446",
   "metadata": {},
   "outputs": [
    {
     "data": {
      "application/vnd.jupyter.widget-view+json": {
       "model_id": "7be7a24dfb4f4ddd93293da8492c8172",
       "version_major": 2,
       "version_minor": 0
      },
      "text/plain": [
       "Button(description='Run all below', style=ButtonStyle())"
      ]
     },
     "metadata": {},
     "output_type": "display_data"
    }
   ],
   "source": [
    "from IPython.display import Javascript, display\n",
    "from ipywidgets import widgets\n",
    "\n",
    "def run_all(ev):\n",
    "    display(Javascript('IPython.notebook.execute_cell_range(IPython.notebook.get_selected_index()+1, IPython.notebook.ncells())'))\n",
    "\n",
    "button = widgets.Button(description=\"Run all below\")\n",
    "button.on_click(run_all)\n",
    "display(button)"
   ]
  },
  {
   "cell_type": "markdown",
   "id": "2ac3d334",
   "metadata": {},
   "source": [
    "### Importing all libraries"
   ]
  },
  {
   "cell_type": "code",
   "execution_count": 68,
   "id": "7722505f",
   "metadata": {},
   "outputs": [],
   "source": [
    "from bs4 import BeautifulSoup\n",
    "import urllib.request, urllib.parse, urllib.error\n",
    "import re\n",
    "import time\n",
    "import pandas as pd\n",
    "#pd.set_option('display.max_rows', 700)\n",
    "#pd.set_option('display.max_columns', 500)\n",
    "#pd.set_option('display.width', 1000)"
   ]
  },
  {
   "cell_type": "markdown",
   "id": "aa25f913",
   "metadata": {},
   "source": [
    "### 1. Index Extraction function"
   ]
  },
  {
   "cell_type": "code",
   "execution_count": 69,
   "id": "9b2eab7c",
   "metadata": {},
   "outputs": [],
   "source": [
    "def index_extract(movie):\n",
    "    index_elem=movie.find(class_='lister-item-index unbold text-primary')\n",
    "    \n",
    "    if index_elem is None:\n",
    "        return None\n",
    "    else:\n",
    "        ans=index_elem.text\n",
    "        return int(ans.split('.')[0])"
   ]
  },
  {
   "cell_type": "markdown",
   "id": "d1abeff2",
   "metadata": {},
   "source": [
    "### 2. Name Extraction Function"
   ]
  },
  {
   "cell_type": "code",
   "execution_count": 70,
   "id": "f26c19ca",
   "metadata": {},
   "outputs": [],
   "source": [
    "def name_extract(movie):\n",
    "    header_elem=movie.find(class_='lister-item-header')\n",
    "    if header_elem is None:\n",
    "        return None\n",
    "    else:\n",
    "        header=header_elem.find('a').text\n",
    "        return header"
   ]
  },
  {
   "cell_type": "markdown",
   "id": "26404b7d",
   "metadata": {},
   "source": [
    "### 3. Year of Release Extraction Function"
   ]
  },
  {
   "cell_type": "code",
   "execution_count": 85,
   "id": "69af50b7",
   "metadata": {},
   "outputs": [],
   "source": [
    "def year_extract(movie):\n",
    "    year_elem=movie.find(class_='lister-item-year text-muted unbold')\n",
    "    ans=re.findall(r'\\((\\d+)\\)',year_elem.text)\n",
    "    if len(ans)<1:\n",
    "        return None\n",
    "    else:\n",
    "        return int(ans[0])"
   ]
  },
  {
   "cell_type": "markdown",
   "id": "5379a4aa",
   "metadata": {},
   "source": [
    "### 4. Genre Extraction Function"
   ]
  },
  {
   "cell_type": "code",
   "execution_count": 72,
   "id": "11ccc05e",
   "metadata": {},
   "outputs": [],
   "source": [
    "def genre_extract(movie):\n",
    "    ans=movie.find(class_='genre')\n",
    "    if ans is None:\n",
    "        return None\n",
    "    else:\n",
    "        return ans.text.strip().replace('\\n','')"
   ]
  },
  {
   "cell_type": "markdown",
   "id": "84f06def",
   "metadata": {},
   "source": [
    "### 5. IMDB Rating Extraction Function"
   ]
  },
  {
   "cell_type": "code",
   "execution_count": 86,
   "id": "3c00bfd6",
   "metadata": {},
   "outputs": [],
   "source": [
    "def imdb_extract(movie):\n",
    "    rating_elem=movie.find(class_='inline-block ratings-imdb-rating')\n",
    "    if rating_elem is None:\n",
    "        return None\n",
    "    else:\n",
    "        rating=rating_elem.find('strong').text\n",
    "        return float(rating)"
   ]
  },
  {
   "cell_type": "markdown",
   "id": "277c360a",
   "metadata": {},
   "source": [
    "### 6. Metascore Extraction Function"
   ]
  },
  {
   "cell_type": "code",
   "execution_count": 74,
   "id": "65b51be0",
   "metadata": {},
   "outputs": [],
   "source": [
    "def metascore_extract(movie):\n",
    "    temp=movie.find(class_='metascore')\n",
    "    if temp is None:\n",
    "        return None\n",
    "    else:\n",
    "        return str(temp.text.strip())"
   ]
  },
  {
   "cell_type": "markdown",
   "id": "b8034722",
   "metadata": {},
   "source": [
    "### 7. Summary Extraction Function"
   ]
  },
  {
   "cell_type": "code",
   "execution_count": 75,
   "id": "d2be7831",
   "metadata": {},
   "outputs": [],
   "source": [
    "def summary_extract(movie):\n",
    "    temp=movie.find_all('p',{'class':'text-muted'})\n",
    "    if temp is None:\n",
    "        return None\n",
    "    else:\n",
    "        temp=temp[-1].text\n",
    "        return str(temp.replace('\\n','').strip())"
   ]
  },
  {
   "cell_type": "markdown",
   "id": "9b433d86",
   "metadata": {},
   "source": [
    "### 8. Director and Star Extraction Function"
   ]
  },
  {
   "cell_type": "code",
   "execution_count": 87,
   "id": "23fee906",
   "metadata": {},
   "outputs": [],
   "source": [
    "def director_and_star_extract(movie):\n",
    "    send=[]\n",
    "    temp=''\n",
    "    director_star_elem=movie.find_all('p',{'class':''})\n",
    "    # made by Kunal N Gohrani\n",
    "    # Director column got no class attribute so need to check if Director word is present or not\n",
    "    for i in director_star_elem:\n",
    "        if 'Director' in i.text:\n",
    "            temp=i.text\n",
    "    temp=temp.replace('\\n','').strip()\n",
    "    # using regular expressions to take out directors and stars\n",
    "    #taking out directors\n",
    "    director=re.findall(r'^Director[s:]*([a-zA-Z0-9 ,.]*)',temp)\n",
    "    if len(director)<1:\n",
    "        send.append(None)\n",
    "    else:\n",
    "        send.append(director[0])\n",
    "    #taking out stars\n",
    "    star=re.findall(r'Star[s:]+([a-zA-Z0-9 ,.]*)',temp)\n",
    "    if len(star)<1:\n",
    "        send.append(None)\n",
    "    else:\n",
    "        send.append(star[0])\n",
    "    return send"
   ]
  },
  {
   "cell_type": "markdown",
   "id": "15cf3fa7",
   "metadata": {},
   "source": [
    "### 9. Votes Extraction Function"
   ]
  },
  {
   "cell_type": "code",
   "execution_count": 77,
   "id": "35d36125",
   "metadata": {},
   "outputs": [],
   "source": [
    "def votes_extract(movie):\n",
    "    temp=movie.find(class_='sort-num_votes-visible')\n",
    "    temp=temp.text.strip().replace('\\n','')\n",
    "    vote=re.findall(r'Vote[s:]+([0-9,]+)',temp)\n",
    "    if len(vote)<1:\n",
    "        return None\n",
    "    else:\n",
    "        return vote[0]"
   ]
  },
  {
   "cell_type": "markdown",
   "id": "946dfe05",
   "metadata": {},
   "source": [
    "### 10. Gross Extraction Function"
   ]
  },
  {
   "cell_type": "code",
   "execution_count": 78,
   "id": "12047de6",
   "metadata": {},
   "outputs": [],
   "source": [
    "def gross_extract(movie):\n",
    "    temp=movie.find(class_='sort-num_votes-visible')\n",
    "    temp=temp.text.strip().replace('\\n','')\n",
    "    gross=re.findall(r'Gross:([\\$0-9.,A-Z]+)',temp)\n",
    "    if len(gross)<1:\n",
    "        return None\n",
    "    else:\n",
    "        return gross[0]"
   ]
  },
  {
   "cell_type": "markdown",
   "id": "dc228045",
   "metadata": {},
   "source": [
    "### 11. Next URL Finder"
   ]
  },
  {
   "cell_type": "code",
   "execution_count": 79,
   "id": "ac30749a",
   "metadata": {},
   "outputs": [],
   "source": [
    "def next_url_fetcher(soup):\n",
    "    link=soup.find(class_='lister-page-next next-page')\n",
    "    if link is None:\n",
    "        return None\n",
    "    else:\n",
    "        link=link.get('href')\n",
    "        link='https://www.imdb.com'+link\n",
    "    return link\n"
   ]
  },
  {
   "cell_type": "markdown",
   "id": "7047ff35",
   "metadata": {},
   "source": [
    "### 12. URL Fetcher"
   ]
  },
  {
   "cell_type": "code",
   "execution_count": 88,
   "id": "98f7209c",
   "metadata": {},
   "outputs": [],
   "source": [
    "def url_fetcher(url=''):\n",
    "    if url=='':\n",
    "        url='https://www.imdb.com/search/title/?groups=top_250&sort=user_rating,desc&ref_=adv_prv'\n",
    "    user_agent={}\n",
    "    user_agent['Mozila'] = 'Mozilla/5.0 (Windows NT 6.1; Win64; x64)'\n",
    "    user_agent['Android'] = 'Mozilla/5.0 (X11; Ubuntu; Linux x86_64; rv:68.0) Gecko/20100101 Firefox/68.0'\n",
    "    headers={'User-Agent':user_agent['Android'],'Accept-Language': 'en-US,en;q=0.8'}\n",
    "    urlHandle=urllib.request.Request(url,None,headers)\n",
    "    urlHandle=urllib.request.urlopen(urlHandle)\n",
    "    content=urlHandle.read()\n",
    "    return BeautifulSoup(content,'html.parser')"
   ]
  },
  {
   "cell_type": "markdown",
   "id": "57fe1fe8",
   "metadata": {},
   "source": [
    "### 13. DataFrame Maker and Exporter"
   ]
  },
  {
   "cell_type": "code",
   "execution_count": 81,
   "id": "c5df7244",
   "metadata": {},
   "outputs": [],
   "source": [
    "def DataFrame_Printer_and_Exporter():\n",
    "    data={}\n",
    "    data['Name']=name\n",
    "    data['Year of Release']=year\n",
    "    data['Genre']=genre\n",
    "    data['IMDB Rating']=IMDB_rating\n",
    "    data['Metascore']=metascore\n",
    "    data['Director(s)']=directors\n",
    "    data['Star(s)']=stars\n",
    "    data['Summary']=summary\n",
    "    data['Votes']=votes\n",
    "    data['Gross Earning']=grosses\n",
    "    df = pd.DataFrame(data=data,index=index)\n",
    "    df.to_csv('IMDB.csv')\n",
    "    return df"
   ]
  },
  {
   "cell_type": "markdown",
   "id": "82118cb3",
   "metadata": {},
   "source": [
    "### 14. Main Function"
   ]
  },
  {
   "cell_type": "code",
   "execution_count": 82,
   "id": "9397052f",
   "metadata": {},
   "outputs": [],
   "source": [
    "\n",
    "# Main Cell Executor\n",
    "index=[]\n",
    "name=[]\n",
    "year=[]\n",
    "genre=[]\n",
    "IMDB_rating=[]\n",
    "metascore=[]\n",
    "summary=[]\n",
    "directors=[]\n",
    "stars=[]\n",
    "votes=[]\n",
    "grosses=[]\n",
    "\n",
    "def main():\n",
    "    wait=input('Enter number of seconds to wait before fetching the next page (default: 25): ')\n",
    "    if wait=='':\n",
    "        wait=25\n",
    "    else:\n",
    "        wait=int(wait)\n",
    "    print('Fetching page')\n",
    "    soup=url_fetcher()\n",
    "    for i in range(1,6):\n",
    "        all_movies=soup.find_all(class_='lister-item-content')\n",
    "        print('Fetching page')\n",
    "        print('Scraping.....')\n",
    "        for movie in all_movies:\n",
    "            # Extracting all information needed by calling related functions and appending\n",
    "            # to related list\n",
    "            index.append(index_extract(movie))\n",
    "            name.append(name_extract(movie))\n",
    "            year.append(year_extract(movie))\n",
    "            genre.append(genre_extract(movie))\n",
    "            IMDB_rating.append(imdb_extract(movie))\n",
    "            metascore.append(metascore_extract(movie))\n",
    "            summary.append(summary_extract(movie))\n",
    "            director_and_star=director_and_star_extract(movie)\n",
    "            directors.append(director_and_star[0])\n",
    "            stars.append(director_and_star[1])\n",
    "            votes.append(votes_extract(movie))\n",
    "            grosses.append(gross_extract(movie))\n",
    "        next_link=next_url_fetcher(soup)\n",
    "        if next_link is None:\n",
    "            print('Scraping completed..Exiting')\n",
    "            break;\n",
    "        print('Scraping completed... sleeping for ',wait,' seconds')\n",
    "        time.sleep(wait)\n",
    "        soup=url_fetcher(next_link)\n",
    "    df=DataFrame_Printer_and_Exporter()\n",
    "    return df"
   ]
  },
  {
   "cell_type": "code",
   "execution_count": 83,
   "id": "d5c522fa",
   "metadata": {},
   "outputs": [
    {
     "name": "stdout",
     "output_type": "stream",
     "text": [
      "Enter number of seconds to wait before fetching the next page (default: 25): 25\n",
      "Fetching page\n",
      "Fetching page\n",
      "Scraping.....\n",
      "Scraping completed... sleeping for  25  seconds\n",
      "Fetching page\n",
      "Scraping.....\n",
      "Scraping completed... sleeping for  25  seconds\n",
      "Fetching page\n",
      "Scraping.....\n",
      "Scraping completed... sleeping for  25  seconds\n",
      "Fetching page\n",
      "Scraping.....\n",
      "Scraping completed..Exiting\n"
     ]
    }
   ],
   "source": [
    "# Calling main Function, main functions returns the dataframe to be printed below, and also exports a csv file.\n",
    "df=main()"
   ]
  },
  {
   "cell_type": "code",
   "execution_count": null,
   "id": "158e6788",
   "metadata": {},
   "outputs": [],
   "source": []
  },
  {
   "cell_type": "code",
   "execution_count": null,
   "id": "eb57523b",
   "metadata": {},
   "outputs": [],
   "source": []
  },
  {
   "cell_type": "code",
   "execution_count": null,
   "id": "59473380",
   "metadata": {},
   "outputs": [],
   "source": []
  },
  {
   "cell_type": "code",
   "execution_count": null,
   "id": "33cd4b05",
   "metadata": {},
   "outputs": [],
   "source": []
  },
  {
   "cell_type": "code",
   "execution_count": null,
   "id": "3e7e0a36",
   "metadata": {},
   "outputs": [],
   "source": []
  }
 ],
 "metadata": {
  "kernelspec": {
   "display_name": "Python 3 (ipykernel)",
   "language": "python",
   "name": "python3"
  },
  "language_info": {
   "codemirror_mode": {
    "name": "ipython",
    "version": 3
   },
   "file_extension": ".py",
   "mimetype": "text/x-python",
   "name": "python",
   "nbconvert_exporter": "python",
   "pygments_lexer": "ipython3",
   "version": "3.9.12"
  }
 },
 "nbformat": 4,
 "nbformat_minor": 5
}
