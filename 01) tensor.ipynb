{
 "cells": [
  {
   "cell_type": "code",
   "execution_count": 2,
   "id": "80a47706",
   "metadata": {},
   "outputs": [],
   "source": [
    "import numpy as np"
   ]
  },
  {
   "cell_type": "code",
   "execution_count": 3,
   "id": "eb5dcfa6",
   "metadata": {},
   "outputs": [],
   "source": [
    "#scalar/vector(1):\n",
    "a = np.array(4)"
   ]
  },
  {
   "cell_type": "code",
   "execution_count": 4,
   "id": "71daf4f1",
   "metadata": {},
   "outputs": [
    {
     "data": {
      "text/plain": [
       "array(4)"
      ]
     },
     "execution_count": 4,
     "metadata": {},
     "output_type": "execute_result"
    }
   ],
   "source": [
    "a"
   ]
  },
  {
   "cell_type": "code",
   "execution_count": 6,
   "id": "6292ec91",
   "metadata": {},
   "outputs": [
    {
     "data": {
      "text/plain": [
       "0"
      ]
     },
     "execution_count": 6,
     "metadata": {},
     "output_type": "execute_result"
    }
   ],
   "source": [
    "a.ndim"
   ]
  },
  {
   "cell_type": "code",
   "execution_count": 13,
   "id": "78b58319",
   "metadata": {},
   "outputs": [],
   "source": [
    "#1D) Tensor/vector(4):\n",
    "b = np.array([1,2,3,4])\n"
   ]
  },
  {
   "cell_type": "code",
   "execution_count": 14,
   "id": "584b445e",
   "metadata": {},
   "outputs": [
    {
     "data": {
      "text/plain": [
       "1"
      ]
     },
     "execution_count": 14,
     "metadata": {},
     "output_type": "execute_result"
    }
   ],
   "source": [
    "b.ndim"
   ]
  },
  {
   "cell_type": "code",
   "execution_count": 18,
   "id": "0c3f53dd",
   "metadata": {},
   "outputs": [],
   "source": [
    "#2D Tensor/Vector(3):\n",
    "c = np.array([[[1,2,3]]])"
   ]
  },
  {
   "cell_type": "code",
   "execution_count": 19,
   "id": "b7272878",
   "metadata": {},
   "outputs": [
    {
     "data": {
      "text/plain": [
       "3"
      ]
     },
     "execution_count": 19,
     "metadata": {},
     "output_type": "execute_result"
    }
   ],
   "source": [
    "c.ndim"
   ]
  },
  {
   "cell_type": "code",
   "execution_count": 22,
   "id": "00990cf2",
   "metadata": {},
   "outputs": [],
   "source": [
    "matric = np.array([[1,2,3],[4,5,6],[7,8,9]])"
   ]
  },
  {
   "cell_type": "code",
   "execution_count": 23,
   "id": "302739df",
   "metadata": {},
   "outputs": [
    {
     "data": {
      "text/plain": [
       "array([[1, 2, 3],\n",
       "       [4, 5, 6],\n",
       "       [7, 8, 9]])"
      ]
     },
     "execution_count": 23,
     "metadata": {},
     "output_type": "execute_result"
    }
   ],
   "source": [
    "matric"
   ]
  },
  {
   "cell_type": "markdown",
   "id": "6114dfd3",
   "metadata": {},
   "source": [
    "#Rank , AXES and shape"
   ]
  },
  {
   "cell_type": "code",
   "execution_count": 30,
   "id": "dedf097a",
   "metadata": {},
   "outputs": [],
   "source": [
    "#No OF axis  = rank =  no dimention"
   ]
  },
  {
   "cell_type": "code",
   "execution_count": 29,
   "id": "630be1eb",
   "metadata": {},
   "outputs": [],
   "source": [
    "#Example of 1D Tensors:\n",
    "\n",
    "cgpi = 8.1\n",
    "iq = 91\n",
    "stat = \"WB\"\n",
    "\n",
    "student = np.array([8.1,9.1,0])\n"
   ]
  },
  {
   "cell_type": "code",
   "execution_count": 34,
   "id": "aac3f74e",
   "metadata": {},
   "outputs": [],
   "source": [
    "#Example of 2D Tensors:\n",
    "\n",
    "A =np.array([[8.1,9.1,0],\n",
    "   [7.1,8.5,1],\n",
    "   [8.2,7.2,0]\n",
    "    ])"
   ]
  },
  {
   "cell_type": "code",
   "execution_count": 36,
   "id": "d319e94b",
   "metadata": {},
   "outputs": [
    {
     "name": "stderr",
     "output_type": "stream",
     "text": [
      "C:\\Users\\Smit\\AppData\\Local\\Temp\\ipykernel_1864\\2912281417.py:2: VisibleDeprecationWarning: Creating an ndarray from ragged nested sequences (which is a list-or-tuple of lists-or-tuples-or ndarrays with different lengths or shapes) is deprecated. If you meant to do this, you must specify 'dtype=object' when creating the ndarray.\n",
      "  A =np.array([\n"
     ]
    }
   ],
   "source": [
    "#Example of 3D Tensor:\n",
    "A =np.array([\n",
    "   [[8.1,9.1,0],[0,1,1,0]],\n",
    "   [[7.1,8.5,1],[2,0,1,2]],\n",
    "   [[8.2,7.2,0],[0,0,1,0]]\n",
    "    ])\n",
    "\n",
    "\n",
    "# stock market data:\n",
    "## 2d data 365,2 \n",
    "### 3D data 10,365,2"
   ]
  },
  {
   "cell_type": "code",
   "execution_count": null,
   "id": "7190016d",
   "metadata": {},
   "outputs": [],
   "source": [
    "#Example of 4D Tensor:\n",
    "\n",
    "#images data in uesed 4D dtenson:\n",
    "   \n",
    "    \n",
    "#Example of 5D Tensor :\n",
    "\n",
    "#video data in uesd 5D tesnor:\n",
    "  #4video*60sec*30 fps*480p*720*3 = 27 gb uesd:"
   ]
  }
 ],
 "metadata": {
  "kernelspec": {
   "display_name": "Python 3 (ipykernel)",
   "language": "python",
   "name": "python3"
  },
  "language_info": {
   "codemirror_mode": {
    "name": "ipython",
    "version": 3
   },
   "file_extension": ".py",
   "mimetype": "text/x-python",
   "name": "python",
   "nbconvert_exporter": "python",
   "pygments_lexer": "ipython3",
   "version": "3.9.12"
  }
 },
 "nbformat": 4,
 "nbformat_minor": 5
}
